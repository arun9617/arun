{
  "nbformat": 4,
  "nbformat_minor": 0,
  "metadata": {
    "colab": {
      "name": "Statements.ipynb",
      "provenance": [],
      "authorship_tag": "ABX9TyOpioGroYtOsajNkT+6ODhi",
      "include_colab_link": true
    },
    "kernelspec": {
      "name": "python3",
      "display_name": "Python 3"
    },
    "language_info": {
      "name": "python"
    }
  },
  "cells": [
    {
      "cell_type": "markdown",
      "metadata": {
        "id": "view-in-github",
        "colab_type": "text"
      },
      "source": [
        "<a href=\"https://colab.research.google.com/github/arun9617/arun/blob/master/Statements.ipynb\" target=\"_parent\"><img src=\"https://colab.research.google.com/assets/colab-badge.svg\" alt=\"Open In Colab\"/></a>"
      ]
    },
    {
      "cell_type": "markdown",
      "metadata": {
        "id": "dBEY89jT0lnP"
      },
      "source": [
        "#Lesson One:Statements"
      ]
    },
    {
      "cell_type": "markdown",
      "metadata": {
        "id": "nPVN3oE_znrY"
      },
      "source": [
        "## Statements\n"
      ]
    },
    {
      "cell_type": "markdown",
      "metadata": {
        "id": "fJwHofZh2gc-"
      },
      "source": [
        "#Hello World Examples"
      ]
    },
    {
      "cell_type": "code",
      "metadata": {
        "colab": {
          "base_uri": "https://localhost:8080/"
        },
        "id": "oEAoYks8wQ09",
        "outputId": "f08a88b3-4197-4f3b-929f-413a3e7a5e7a"
      },
      "source": [
        "print(\"Hello World\")"
      ],
      "execution_count": 2,
      "outputs": [
        {
          "output_type": "stream",
          "name": "stdout",
          "text": [
            "Hello World\n"
          ]
        }
      ]
    },
    {
      "cell_type": "code",
      "metadata": {
        "id": "jKcr2xSLydx3"
      },
      "source": [
        "city = \"Singapore\""
      ],
      "execution_count": 6,
      "outputs": []
    },
    {
      "cell_type": "code",
      "metadata": {
        "colab": {
          "base_uri": "https://localhost:8080/"
        },
        "id": "geuELbBtyqHO",
        "outputId": "27474eb4-4ff1-4301-9dde-6a5605744d7e"
      },
      "source": [
        "print(f\"I am staying in {city}\")"
      ],
      "execution_count": 7,
      "outputs": [
        {
          "output_type": "stream",
          "name": "stdout",
          "text": [
            "I am staying in Singapore\n"
          ]
        }
      ]
    },
    {
      "cell_type": "code",
      "metadata": {
        "id": "eHW9yBIIy3CK"
      },
      "source": [
        "num = 100"
      ],
      "execution_count": 8,
      "outputs": []
    },
    {
      "cell_type": "code",
      "metadata": {
        "colab": {
          "base_uri": "https://localhost:8080/"
        },
        "id": "wy3SepJC2Doo",
        "outputId": "a5835b74-45da-459d-a8f2-eb699711a9e8"
      },
      "source": [
        "print(f\"The amount in my wallet i like is {num} dollars\")"
      ],
      "execution_count": 10,
      "outputs": [
        {
          "output_type": "stream",
          "name": "stdout",
          "text": [
            "The amount in my wallet i like is 100 dollars\n"
          ]
        }
      ]
    },
    {
      "cell_type": "markdown",
      "metadata": {
        "id": "W1CTWsoe3m_T"
      },
      "source": [
        "## Data Structures"
      ]
    },
    {
      "cell_type": "markdown",
      "metadata": {
        "id": "y6oNVC4H3Ahv"
      },
      "source": [
        "#Variables"
      ]
    },
    {
      "cell_type": "code",
      "metadata": {
        "id": "A02SqXbN28Bq"
      },
      "source": [
        "var = 1"
      ],
      "execution_count": null,
      "outputs": []
    },
    {
      "cell_type": "markdown",
      "metadata": {
        "id": "5UOo97Tt3wfH"
      },
      "source": [
        "##Lists"
      ]
    },
    {
      "cell_type": "code",
      "metadata": {
        "id": "CRGe4Pwu33BO"
      },
      "source": [
        "mylist=[]"
      ],
      "execution_count": 13,
      "outputs": []
    },
    {
      "cell_type": "code",
      "metadata": {
        "id": "YY8h3Qzf383c"
      },
      "source": [
        "mylist.append(1)"
      ],
      "execution_count": 14,
      "outputs": []
    },
    {
      "cell_type": "code",
      "metadata": {
        "id": "ine4Sewk4H10"
      },
      "source": [
        "mylist.append(1)"
      ],
      "execution_count": 15,
      "outputs": []
    },
    {
      "cell_type": "code",
      "metadata": {
        "colab": {
          "base_uri": "https://localhost:8080/"
        },
        "id": "EJXjuRtN4PuK",
        "outputId": "4cabb873-dc5d-4e7e-a1b6-516e21bd5d73"
      },
      "source": [
        "#How many items in mylist\n",
        "len(mylist)"
      ],
      "execution_count": 16,
      "outputs": [
        {
          "output_type": "execute_result",
          "data": {
            "text/plain": [
              "2"
            ]
          },
          "metadata": {},
          "execution_count": 16
        }
      ]
    },
    {
      "cell_type": "code",
      "metadata": {
        "colab": {
          "base_uri": "https://localhost:8080/"
        },
        "id": "33cWAkIR4Y15",
        "outputId": "7e029b15-420d-4f52-c5a4-5fe1af60c02f"
      },
      "source": [
        "print(mylist)"
      ],
      "execution_count": 17,
      "outputs": [
        {
          "output_type": "stream",
          "name": "stdout",
          "text": [
            "[1, 1]\n"
          ]
        }
      ]
    },
    {
      "cell_type": "code",
      "metadata": {
        "id": "4IeU_iij4dpm"
      },
      "source": [
        "#Many things at once\n",
        "many_list=[1,2,3,5,7,8,9]"
      ],
      "execution_count": 18,
      "outputs": []
    },
    {
      "cell_type": "code",
      "metadata": {
        "colab": {
          "base_uri": "https://localhost:8080/"
        },
        "id": "eeaCKnPS4mJc",
        "outputId": "3eaed759-b837-4e8c-b931-115818b735ff"
      },
      "source": [
        "len(many_list)"
      ],
      "execution_count": 19,
      "outputs": [
        {
          "output_type": "execute_result",
          "data": {
            "text/plain": [
              "7"
            ]
          },
          "metadata": {},
          "execution_count": 19
        }
      ]
    },
    {
      "cell_type": "code",
      "metadata": {
        "colab": {
          "base_uri": "https://localhost:8080/"
        },
        "id": "y1hJ3Amu8bOX",
        "outputId": "e2bcb342-49f8-4550-c938-5679f8124ef3"
      },
      "source": [
        "#grab two items from the top\n",
        "many_list[0:3]"
      ],
      "execution_count": 23,
      "outputs": [
        {
          "output_type": "execute_result",
          "data": {
            "text/plain": [
              "[1, 2, 3]"
            ]
          },
          "metadata": {},
          "execution_count": 23
        }
      ]
    },
    {
      "cell_type": "code",
      "metadata": {
        "colab": {
          "base_uri": "https://localhost:8080/"
        },
        "id": "ZtNlkZSO8_MY",
        "outputId": "3f48c58e-706a-4433-8590-06ab3909053f"
      },
      "source": [
        "#things you can do \n",
        "many_list[:-2]"
      ],
      "execution_count": 25,
      "outputs": [
        {
          "output_type": "execute_result",
          "data": {
            "text/plain": [
              "[1, 2, 3, 5, 7]"
            ]
          },
          "metadata": {},
          "execution_count": 25
        }
      ]
    },
    {
      "cell_type": "code",
      "metadata": {
        "id": "LqbW-idJ9qYH"
      },
      "source": [
        ""
      ],
      "execution_count": null,
      "outputs": []
    }
  ]
}