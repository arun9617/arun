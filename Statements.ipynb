{
  "nbformat": 4,
  "nbformat_minor": 0,
  "metadata": {
    "colab": {
      "name": "Statements.ipynb",
      "provenance": [],
      "toc_visible": true,
      "authorship_tag": "ABX9TyN36LgWqTr/pQED+xrXCdDY",
      "include_colab_link": true
    },
    "kernelspec": {
      "name": "python3",
      "display_name": "Python 3"
    },
    "language_info": {
      "name": "python"
    }
  },
  "cells": [
    {
      "cell_type": "markdown",
      "metadata": {
        "id": "view-in-github",
        "colab_type": "text"
      },
      "source": [
        "<a href=\"https://colab.research.google.com/github/arun9617/arun/blob/master/Statements.ipynb\" target=\"_parent\"><img src=\"https://colab.research.google.com/assets/colab-badge.svg\" alt=\"Open In Colab\"/></a>"
      ]
    },
    {
      "cell_type": "markdown",
      "metadata": {
        "id": "dBEY89jT0lnP"
      },
      "source": [
        "#Lesson One:Statements"
      ]
    },
    {
      "cell_type": "markdown",
      "metadata": {
        "id": "nPVN3oE_znrY"
      },
      "source": [
        "## Statements\n"
      ]
    },
    {
      "cell_type": "markdown",
      "metadata": {
        "id": "fJwHofZh2gc-"
      },
      "source": [
        "#Hello World Examples"
      ]
    },
    {
      "cell_type": "code",
      "metadata": {
        "colab": {
          "base_uri": "https://localhost:8080/"
        },
        "id": "oEAoYks8wQ09",
        "outputId": "f08a88b3-4197-4f3b-929f-413a3e7a5e7a"
      },
      "source": [
        "print(\"Hello World\")"
      ],
      "execution_count": null,
      "outputs": [
        {
          "output_type": "stream",
          "name": "stdout",
          "text": [
            "Hello World\n"
          ]
        }
      ]
    },
    {
      "cell_type": "code",
      "metadata": {
        "id": "jKcr2xSLydx3"
      },
      "source": [
        "city = \"Singapore\""
      ],
      "execution_count": null,
      "outputs": []
    },
    {
      "cell_type": "code",
      "metadata": {
        "colab": {
          "base_uri": "https://localhost:8080/"
        },
        "id": "geuELbBtyqHO",
        "outputId": "27474eb4-4ff1-4301-9dde-6a5605744d7e"
      },
      "source": [
        "print(f\"I am staying in {city}\")"
      ],
      "execution_count": null,
      "outputs": [
        {
          "output_type": "stream",
          "name": "stdout",
          "text": [
            "I am staying in Singapore\n"
          ]
        }
      ]
    },
    {
      "cell_type": "code",
      "metadata": {
        "id": "eHW9yBIIy3CK"
      },
      "source": [
        "num = 100"
      ],
      "execution_count": null,
      "outputs": []
    },
    {
      "cell_type": "code",
      "metadata": {
        "colab": {
          "base_uri": "https://localhost:8080/"
        },
        "id": "wy3SepJC2Doo",
        "outputId": "a5835b74-45da-459d-a8f2-eb699711a9e8"
      },
      "source": [
        "print(f\"The amount in my wallet i like is {num} dollars\")"
      ],
      "execution_count": null,
      "outputs": [
        {
          "output_type": "stream",
          "name": "stdout",
          "text": [
            "The amount in my wallet i like is 100 dollars\n"
          ]
        }
      ]
    },
    {
      "cell_type": "markdown",
      "metadata": {
        "id": "W1CTWsoe3m_T"
      },
      "source": [
        "### Data Structures"
      ]
    },
    {
      "cell_type": "code",
      "metadata": {
        "id": "AcBuddCGyun5"
      },
      "source": [
        ""
      ],
      "execution_count": null,
      "outputs": []
    },
    {
      "cell_type": "markdown",
      "metadata": {
        "id": "y6oNVC4H3Ahv"
      },
      "source": [
        "#Variables"
      ]
    },
    {
      "cell_type": "code",
      "metadata": {
        "id": "A02SqXbN28Bq"
      },
      "source": [
        "var = 1"
      ],
      "execution_count": 25,
      "outputs": []
    },
    {
      "cell_type": "markdown",
      "metadata": {
        "id": "5UOo97Tt3wfH"
      },
      "source": [
        "##Lists"
      ]
    },
    {
      "cell_type": "code",
      "metadata": {
        "id": "CRGe4Pwu33BO"
      },
      "source": [
        "mylist=[]"
      ],
      "execution_count": null,
      "outputs": []
    },
    {
      "cell_type": "code",
      "metadata": {
        "id": "YY8h3Qzf383c"
      },
      "source": [
        "mylist.append(1)"
      ],
      "execution_count": null,
      "outputs": []
    },
    {
      "cell_type": "code",
      "metadata": {
        "id": "ine4Sewk4H10"
      },
      "source": [
        "mylist.append(1)"
      ],
      "execution_count": null,
      "outputs": []
    },
    {
      "cell_type": "code",
      "metadata": {
        "colab": {
          "base_uri": "https://localhost:8080/"
        },
        "id": "EJXjuRtN4PuK",
        "outputId": "4cabb873-dc5d-4e7e-a1b6-516e21bd5d73"
      },
      "source": [
        "#How many items in mylist\n",
        "len(mylist)"
      ],
      "execution_count": null,
      "outputs": [
        {
          "output_type": "execute_result",
          "data": {
            "text/plain": [
              "2"
            ]
          },
          "metadata": {},
          "execution_count": 16
        }
      ]
    },
    {
      "cell_type": "code",
      "metadata": {
        "colab": {
          "base_uri": "https://localhost:8080/"
        },
        "id": "33cWAkIR4Y15",
        "outputId": "7e029b15-420d-4f52-c5a4-5fe1af60c02f"
      },
      "source": [
        "print(mylist)"
      ],
      "execution_count": null,
      "outputs": [
        {
          "output_type": "stream",
          "name": "stdout",
          "text": [
            "[1, 1]\n"
          ]
        }
      ]
    },
    {
      "cell_type": "code",
      "metadata": {
        "id": "4IeU_iij4dpm"
      },
      "source": [
        "#Many things at once\n",
        "many_list=[1,2,3,5,7,8,9]"
      ],
      "execution_count": null,
      "outputs": []
    },
    {
      "cell_type": "code",
      "metadata": {
        "colab": {
          "base_uri": "https://localhost:8080/"
        },
        "id": "eeaCKnPS4mJc",
        "outputId": "3eaed759-b837-4e8c-b931-115818b735ff"
      },
      "source": [
        "len(many_list)"
      ],
      "execution_count": null,
      "outputs": [
        {
          "output_type": "execute_result",
          "data": {
            "text/plain": [
              "7"
            ]
          },
          "metadata": {},
          "execution_count": 19
        }
      ]
    },
    {
      "cell_type": "code",
      "metadata": {
        "colab": {
          "base_uri": "https://localhost:8080/"
        },
        "id": "y1hJ3Amu8bOX",
        "outputId": "7ae767d9-fbd1-42b8-b49b-58c3189e1f2b"
      },
      "source": [
        "#grab two items from the top\n",
        "many_list[:2]"
      ],
      "execution_count": null,
      "outputs": [
        {
          "output_type": "execute_result",
          "data": {
            "text/plain": [
              "[1, 2]"
            ]
          },
          "metadata": {},
          "execution_count": 43
        }
      ]
    },
    {
      "cell_type": "code",
      "metadata": {
        "colab": {
          "base_uri": "https://localhost:8080/"
        },
        "id": "ZtNlkZSO8_MY",
        "outputId": "3f48c58e-706a-4433-8590-06ab3909053f"
      },
      "source": [
        "#things you can do \n",
        "many_list[:-2]"
      ],
      "execution_count": null,
      "outputs": [
        {
          "output_type": "execute_result",
          "data": {
            "text/plain": [
              "[1, 2, 3, 5, 7]"
            ]
          },
          "metadata": {},
          "execution_count": 25
        }
      ]
    },
    {
      "cell_type": "code",
      "metadata": {
        "id": "LqbW-idJ9qYH"
      },
      "source": [
        ""
      ],
      "execution_count": null,
      "outputs": []
    },
    {
      "cell_type": "markdown",
      "metadata": {
        "id": "AcTyFEj4_JM8"
      },
      "source": [
        "## Dictionary"
      ]
    },
    {
      "cell_type": "code",
      "metadata": {
        "id": "2UR3jXOt_NMu"
      },
      "source": [
        "my_dict = {}"
      ],
      "execution_count": null,
      "outputs": []
    },
    {
      "cell_type": "code",
      "metadata": {
        "colab": {
          "base_uri": "https://localhost:8080/"
        },
        "id": "VL1-wUaju4ZP",
        "outputId": "3769991c-bf67-47e5-9b3b-1f56aded8961"
      },
      "source": [
        "my_dict.values()"
      ],
      "execution_count": null,
      "outputs": [
        {
          "output_type": "execute_result",
          "data": {
            "text/plain": [
              "dict_values([])"
            ]
          },
          "metadata": {},
          "execution_count": 3
        }
      ]
    },
    {
      "cell_type": "code",
      "metadata": {
        "id": "Bja2coHXvZzH"
      },
      "source": [
        "my_dict[\"One\"]= 1"
      ],
      "execution_count": null,
      "outputs": []
    },
    {
      "cell_type": "code",
      "metadata": {
        "colab": {
          "base_uri": "https://localhost:8080/"
        },
        "id": "yGVCDCAkvgMv",
        "outputId": "0618012f-91a2-49c4-f10c-7bf3fe225b81"
      },
      "source": [
        "my_dict.items() # To retrive all items both keys and values"
      ],
      "execution_count": null,
      "outputs": [
        {
          "output_type": "execute_result",
          "data": {
            "text/plain": [
              "dict_items([('One', 1)])"
            ]
          },
          "metadata": {},
          "execution_count": 10
        }
      ]
    },
    {
      "cell_type": "code",
      "metadata": {
        "colab": {
          "base_uri": "https://localhost:8080/"
        },
        "id": "FtVSfX4Tvuf0",
        "outputId": "d0bf89f0-a956-4648-d528-ad0d1e16f31b"
      },
      "source": [
        "my_dict.values() #To Retrive "
      ],
      "execution_count": null,
      "outputs": [
        {
          "output_type": "execute_result",
          "data": {
            "text/plain": [
              "dict_values([1])"
            ]
          },
          "metadata": {},
          "execution_count": 9
        }
      ]
    },
    {
      "cell_type": "code",
      "metadata": {
        "colab": {
          "base_uri": "https://localhost:8080/"
        },
        "id": "9yRiSfnKyhBY",
        "outputId": "56a92932-c063-4189-b8b1-94a81b5b1fc6"
      },
      "source": [
        "my_dict.keys()"
      ],
      "execution_count": null,
      "outputs": [
        {
          "output_type": "execute_result",
          "data": {
            "text/plain": [
              "dict_keys(['One'])"
            ]
          },
          "metadata": {},
          "execution_count": 11
        }
      ]
    },
    {
      "cell_type": "code",
      "metadata": {
        "id": "YrpEDehWzzAx"
      },
      "source": [
        "new_dict = {\n",
        "    \"one\" : 1,\n",
        "    \"two\" : 2,\n",
        "    \"three\" : 3\n",
        "} "
      ],
      "execution_count": null,
      "outputs": []
    },
    {
      "cell_type": "code",
      "metadata": {
        "colab": {
          "base_uri": "https://localhost:8080/"
        },
        "id": "7Wg0tST-0Dr2",
        "outputId": "d14cef1c-7eda-449d-c517-6fc54f0699b1"
      },
      "source": [
        "new_dict.keys()"
      ],
      "execution_count": null,
      "outputs": [
        {
          "output_type": "execute_result",
          "data": {
            "text/plain": [
              "dict_keys(['one', 'two', 'three'])"
            ]
          },
          "metadata": {},
          "execution_count": 13
        }
      ]
    },
    {
      "cell_type": "code",
      "metadata": {
        "colab": {
          "base_uri": "https://localhost:8080/"
        },
        "id": "WZaym-fx0Q4k",
        "outputId": "519807ae-46b5-4f0e-b34a-88d34a3fae58"
      },
      "source": [
        "new_dict.items()"
      ],
      "execution_count": null,
      "outputs": [
        {
          "output_type": "execute_result",
          "data": {
            "text/plain": [
              "dict_items([('one', 1), ('two', 2), ('three', 3)])"
            ]
          },
          "metadata": {},
          "execution_count": 15
        }
      ]
    },
    {
      "cell_type": "code",
      "metadata": {
        "colab": {
          "base_uri": "https://localhost:8080/"
        },
        "id": "woe8x2q70UbF",
        "outputId": "6ae4f9cc-4dd1-4147-ccc5-640be8e008c1"
      },
      "source": [
        "new_dict.values()"
      ],
      "execution_count": null,
      "outputs": [
        {
          "output_type": "execute_result",
          "data": {
            "text/plain": [
              "dict_values([1, 2, 3])"
            ]
          },
          "metadata": {},
          "execution_count": 17
        }
      ]
    },
    {
      "cell_type": "code",
      "metadata": {
        "id": "VIQd3NN10bZA"
      },
      "source": [
        "another_dict = {\n",
        "    \"aws_lambda\" : [1,2,3,4,5],\n",
        "    \"aws_s3\" : [6,7,8]\n",
        "}"
      ],
      "execution_count": 3,
      "outputs": []
    },
    {
      "cell_type": "code",
      "metadata": {
        "colab": {
          "base_uri": "https://localhost:8080/"
        },
        "id": "agQqTSBA1zFa",
        "outputId": "494793ef-fa47-418a-d495-5c529207ee6b"
      },
      "source": [
        "another_dict.keys()"
      ],
      "execution_count": 4,
      "outputs": [
        {
          "output_type": "execute_result",
          "data": {
            "text/plain": [
              "dict_keys(['aws_lambda', 'aws_s3'])"
            ]
          },
          "metadata": {},
          "execution_count": 4
        }
      ]
    },
    {
      "cell_type": "code",
      "metadata": {
        "colab": {
          "base_uri": "https://localhost:8080/"
        },
        "id": "aduiVFllx6ng",
        "outputId": "78ce119c-0fe6-4389-9c4c-2823ecd6ce93"
      },
      "source": [
        "another_dict[\"aws_s3\"]"
      ],
      "execution_count": 5,
      "outputs": [
        {
          "output_type": "execute_result",
          "data": {
            "text/plain": [
              "[6, 7, 8]"
            ]
          },
          "metadata": {},
          "execution_count": 5
        }
      ]
    },
    {
      "cell_type": "markdown",
      "metadata": {
        "id": "FoiNCc3R6BkB"
      },
      "source": [
        "#### Control Structures"
      ]
    },
    {
      "cell_type": "markdown",
      "metadata": {
        "id": "4cgfmPOyzK6m"
      },
      "source": [
        "#### For Loop"
      ]
    },
    {
      "cell_type": "code",
      "metadata": {
        "colab": {
          "base_uri": "https://localhost:8080/"
        },
        "id": "GNZTsAybzM-Y",
        "outputId": "f6fd88be-d5f1-49bb-ad5f-1dc3677f788c"
      },
      "source": [
        "fruits = [\"apple\",\"watermelon\",\"grapes\"]\n",
        "for fruit in fruits:\n",
        "  print(f\"The fruit that enjoy often is a {fruit}\")"
      ],
      "execution_count": 28,
      "outputs": [
        {
          "output_type": "stream",
          "name": "stdout",
          "text": [
            "The fruit that enjoy often is a apple\n",
            "The fruit that enjoy often is a watermelon\n",
            "The fruit that enjoy often is a grapes\n"
          ]
        }
      ]
    },
    {
      "cell_type": "code",
      "metadata": {
        "colab": {
          "base_uri": "https://localhost:8080/"
        },
        "id": "7duZZMwn01l8",
        "outputId": "3797a6ba-8def-403e-df75-2b259e0db840"
      },
      "source": [
        "for fruit in fruits:\n",
        "  if fruit==\"apple\":\n",
        "    print(f\"I Love this fruit {fruit}\")\n",
        "    break\n"
      ],
      "execution_count": 31,
      "outputs": [
        {
          "output_type": "stream",
          "name": "stdout",
          "text": [
            "I Love this fruit apple\n"
          ]
        }
      ]
    },
    {
      "cell_type": "markdown",
      "metadata": {
        "id": "lyfeXk9O5ufs"
      },
      "source": [
        "#### List Comprehension"
      ]
    },
    {
      "cell_type": "code",
      "metadata": {
        "id": "_-Pa3Wz55ye4"
      },
      "source": [
        "martial_arts = [\"Sambo\",\"Muay Thai\",\"Kung Fu\",\"Jeet Kune Do\"]\n",
        "new_phrases =[\"\".join(f\"Mixed Martial Art is influenced by {martial_art}\") for martial_art in martial_arts]"
      ],
      "execution_count": 32,
      "outputs": []
    },
    {
      "cell_type": "code",
      "metadata": {
        "colab": {
          "base_uri": "https://localhost:8080/"
        },
        "id": "xZPOPb0C7m0v",
        "outputId": "fdf77cd9-c460-4070-f644-d5b97173c9f2"
      },
      "source": [
        "new_phrases"
      ],
      "execution_count": 33,
      "outputs": [
        {
          "output_type": "execute_result",
          "data": {
            "text/plain": [
              "['Mixed Martial Art is influenced by Sambo',\n",
              " 'Mixed Martial Art is influenced by Muay Thai',\n",
              " 'Mixed Martial Art is influenced by Kung Fu',\n",
              " 'Mixed Martial Art is influenced by Jeet Kune Do']"
            ]
          },
          "metadata": {},
          "execution_count": 33
        }
      ]
    },
    {
      "cell_type": "code",
      "metadata": {
        "colab": {
          "base_uri": "https://localhost:8080/"
        },
        "id": "EVPdUAcf7szu",
        "outputId": "a1d868a6-eff9-4c8f-9e30-efaaf9a2e1bc"
      },
      "source": [
        "type(new_phrases)"
      ],
      "execution_count": 34,
      "outputs": [
        {
          "output_type": "execute_result",
          "data": {
            "text/plain": [
              "list"
            ]
          },
          "metadata": {},
          "execution_count": 34
        }
      ]
    }
  ]
}